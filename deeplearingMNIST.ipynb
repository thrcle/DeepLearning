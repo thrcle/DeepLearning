{
  "nbformat": 4,
  "nbformat_minor": 0,
  "metadata": {
    "colab": {
      "name": "deeplearingMNIST.ipynb",
      "provenance": [],
      "collapsed_sections": [],
      "authorship_tag": "ABX9TyMAFo80VketvWAIG8CdM13E",
      "include_colab_link": true
    },
    "kernelspec": {
      "name": "python3",
      "display_name": "Python 3"
    },
    "language_info": {
      "name": "python"
    }
  },
  "cells": [
    {
      "cell_type": "markdown",
      "metadata": {
        "id": "view-in-github",
        "colab_type": "text"
      },
      "source": [
        "<a href=\"https://colab.research.google.com/github/thrcle/DeepLearning/blob/main/deeplearingMNIST.ipynb\" target=\"_parent\"><img src=\"https://colab.research.google.com/assets/colab-badge.svg\" alt=\"Open In Colab\"/></a>"
      ]
    },
    {
      "cell_type": "markdown",
      "source": [
        "#keras\n",
        "\n",
        "Sequential(): linear stack of layers\n",
        "summmary() : print summary representation of your model #param에 대한 정보\n",
        "\n",
        " \n"
      ],
      "metadata": {
        "id": "0kT4vy-Baesp"
      }
    },
    {
      "cell_type": "code",
      "source": [
        "# 4-1-4. 딥러닝 프로그램"
      ],
      "metadata": {
        "id": "MZ87q3zDfkLJ"
      },
      "execution_count": 1,
      "outputs": []
    },
    {
      "cell_type": "code",
      "source": [
        "import tensorflow as tf\n",
        "from tensorflow import keras\n",
        "\n",
        "import numpy as np\n",
        "import matplotlib.pyplot as plt\n",
        "\n",
        "print(tf.__version__)"
      ],
      "metadata": {
        "colab": {
          "base_uri": "https://localhost:8080/"
        },
        "id": "JcPcAKZagOSp",
        "outputId": "5ffe5060-8c9d-4649-ea0b-e905663b35e6"
      },
      "execution_count": 2,
      "outputs": [
        {
          "output_type": "stream",
          "name": "stdout",
          "text": [
            "2.8.0\n"
          ]
        }
      ]
    },
    {
      "cell_type": "code",
      "source": [
        "# Define constants\n",
        "batch_size=128\n",
        "epochs=100\n",
        "num_classes=10"
      ],
      "metadata": {
        "id": "WBoNyX0QgwSy"
      },
      "execution_count": 11,
      "outputs": []
    },
    {
      "cell_type": "code",
      "source": [
        "mnist=keras.datasets.mnist\n",
        "(train_images, train_labels), (test_images, test_labels) = mnist.load_data()"
      ],
      "metadata": {
        "colab": {
          "base_uri": "https://localhost:8080/"
        },
        "id": "cax6cgwihYQB",
        "outputId": "510a7ce5-7a3f-49a4-f585-1a712c5822f6"
      },
      "execution_count": 3,
      "outputs": [
        {
          "output_type": "stream",
          "name": "stdout",
          "text": [
            "Downloading data from https://storage.googleapis.com/tensorflow/tf-keras-datasets/mnist.npz\n",
            "11493376/11490434 [==============================] - 0s 0us/step\n",
            "11501568/11490434 [==============================] - 0s 0us/step\n"
          ]
        }
      ]
    },
    {
      "cell_type": "code",
      "source": [
        "len(train_images), len(test_images)"
      ],
      "metadata": {
        "colab": {
          "base_uri": "https://localhost:8080/"
        },
        "id": "dTdgjetmoEHQ",
        "outputId": "4a511ee8-6e61-4d11-ed4f-c1fcf98d16d0"
      },
      "execution_count": 4,
      "outputs": [
        {
          "output_type": "execute_result",
          "data": {
            "text/plain": [
              "(60000, 10000)"
            ]
          },
          "metadata": {},
          "execution_count": 4
        }
      ]
    },
    {
      "cell_type": "code",
      "source": [
        "# Normalize the input image so that each pixel value is between 0 to 1.\n",
        "train_images = train_images / 255.0   #tensorflow는 실수일 때 계산 용이\n",
        "test_images = test_images / 255.0"
      ],
      "metadata": {
        "id": "idG8ZMtbo2aP"
      },
      "execution_count": 6,
      "outputs": []
    },
    {
      "cell_type": "code",
      "source": [
        "model=keras.Sequential([\n",
        "                        keras.layers.Flatten(input_shape=(28,28)),             # Flatten : 1차원으로 변경\n",
        "                        keras.layers.Dense(128, activation=tf.nn.relu),         # Dense : 노드 간 모두 연결 .   128개의 유닛이 있음\n",
        "                        keras.layers.Dense(num_classes, activation='softmax')\n",
        "])\n",
        "model.compile(optimizer='adam',            #\n",
        "              loss=tf.keras.losses.SparseCategoricalCrossentropy(from_logits=True),   # Crossentropy : 원핫인코딩값과 probability 값을 곱해줌   \n",
        "              metrics=['accuracy'])     "
      ],
      "metadata": {
        "id": "IkclzEM0qOfH"
      },
      "execution_count": 14,
      "outputs": []
    },
    {
      "cell_type": "code",
      "source": [
        "history=model.fit(train_images, train_labels, epochs=epochs, batch_size=batch_size)   # epoch= 반복학습 수, batch_size=학습 단위=> 한장씩 풀고 답맞추기 vs 한권 다 풀고 답맞추기"
      ],
      "metadata": {
        "colab": {
          "base_uri": "https://localhost:8080/"
        },
        "id": "dFz-Mkjy4V10",
        "outputId": "cecde645-fc97-4ae5-a627-80202744eba7"
      },
      "execution_count": 15,
      "outputs": [
        {
          "output_type": "stream",
          "name": "stdout",
          "text": [
            "Epoch 1/100\n"
          ]
        },
        {
          "output_type": "stream",
          "name": "stderr",
          "text": [
            "/usr/local/lib/python3.7/dist-packages/tensorflow/python/util/dispatch.py:1082: UserWarning: \"`sparse_categorical_crossentropy` received `from_logits=True`, but the `output` argument was produced by a sigmoid or softmax activation and thus does not represent logits. Was this intended?\"\n",
            "  return dispatch_target(*args, **kwargs)\n"
          ]
        },
        {
          "output_type": "stream",
          "name": "stdout",
          "text": [
            "469/469 [==============================] - 2s 4ms/step - loss: 0.3555 - accuracy: 0.9013\n",
            "Epoch 2/100\n",
            "469/469 [==============================] - 2s 4ms/step - loss: 0.1672 - accuracy: 0.9522\n",
            "Epoch 3/100\n",
            "469/469 [==============================] - 2s 4ms/step - loss: 0.1205 - accuracy: 0.9658\n",
            "Epoch 4/100\n",
            "469/469 [==============================] - 2s 3ms/step - loss: 0.0936 - accuracy: 0.9732\n",
            "Epoch 5/100\n",
            "469/469 [==============================] - 2s 3ms/step - loss: 0.0772 - accuracy: 0.9777\n",
            "Epoch 6/100\n",
            "469/469 [==============================] - 2s 3ms/step - loss: 0.0630 - accuracy: 0.9822\n",
            "Epoch 7/100\n",
            "469/469 [==============================] - 2s 4ms/step - loss: 0.0544 - accuracy: 0.9841\n",
            "Epoch 8/100\n",
            "469/469 [==============================] - 2s 3ms/step - loss: 0.0460 - accuracy: 0.9866\n",
            "Epoch 9/100\n",
            "469/469 [==============================] - 2s 3ms/step - loss: 0.0390 - accuracy: 0.9891\n",
            "Epoch 10/100\n",
            "469/469 [==============================] - 2s 3ms/step - loss: 0.0342 - accuracy: 0.9901\n",
            "Epoch 11/100\n",
            "469/469 [==============================] - 2s 3ms/step - loss: 0.0282 - accuracy: 0.9923\n",
            "Epoch 12/100\n",
            "469/469 [==============================] - 2s 3ms/step - loss: 0.0243 - accuracy: 0.9937\n",
            "Epoch 13/100\n",
            "469/469 [==============================] - 2s 4ms/step - loss: 0.0212 - accuracy: 0.9943\n",
            "Epoch 14/100\n",
            "469/469 [==============================] - 2s 3ms/step - loss: 0.0176 - accuracy: 0.9959\n",
            "Epoch 15/100\n",
            "469/469 [==============================] - 2s 3ms/step - loss: 0.0149 - accuracy: 0.9966\n",
            "Epoch 16/100\n",
            "469/469 [==============================] - 2s 3ms/step - loss: 0.0130 - accuracy: 0.9971\n",
            "Epoch 17/100\n",
            "469/469 [==============================] - 2s 3ms/step - loss: 0.0110 - accuracy: 0.9977\n",
            "Epoch 18/100\n",
            "469/469 [==============================] - 2s 4ms/step - loss: 0.0105 - accuracy: 0.9977\n",
            "Epoch 19/100\n",
            "469/469 [==============================] - 2s 3ms/step - loss: 0.0088 - accuracy: 0.9982\n",
            "Epoch 20/100\n",
            "469/469 [==============================] - 2s 3ms/step - loss: 0.0072 - accuracy: 0.9987\n",
            "Epoch 21/100\n",
            "469/469 [==============================] - 2s 3ms/step - loss: 0.0061 - accuracy: 0.9990\n",
            "Epoch 22/100\n",
            "469/469 [==============================] - 1s 3ms/step - loss: 0.0059 - accuracy: 0.9988\n",
            "Epoch 23/100\n",
            "469/469 [==============================] - 2s 3ms/step - loss: 0.0045 - accuracy: 0.9993\n",
            "Epoch 24/100\n",
            "469/469 [==============================] - 2s 3ms/step - loss: 0.0044 - accuracy: 0.9994\n",
            "Epoch 25/100\n",
            "469/469 [==============================] - 2s 3ms/step - loss: 0.0028 - accuracy: 0.9998\n",
            "Epoch 26/100\n",
            "469/469 [==============================] - 2s 3ms/step - loss: 0.0023 - accuracy: 0.9998\n",
            "Epoch 27/100\n",
            "469/469 [==============================] - 2s 3ms/step - loss: 0.0025 - accuracy: 0.9997\n",
            "Epoch 28/100\n",
            "469/469 [==============================] - 2s 3ms/step - loss: 0.0072 - accuracy: 0.9979\n",
            "Epoch 29/100\n",
            "469/469 [==============================] - 2s 3ms/step - loss: 0.0067 - accuracy: 0.9980\n",
            "Epoch 30/100\n",
            "469/469 [==============================] - 2s 3ms/step - loss: 0.0017 - accuracy: 0.9999\n",
            "Epoch 31/100\n",
            "469/469 [==============================] - 2s 3ms/step - loss: 8.6644e-04 - accuracy: 1.0000\n",
            "Epoch 32/100\n",
            "469/469 [==============================] - 2s 3ms/step - loss: 6.8035e-04 - accuracy: 1.0000\n",
            "Epoch 33/100\n",
            "469/469 [==============================] - 2s 3ms/step - loss: 5.9379e-04 - accuracy: 1.0000\n",
            "Epoch 34/100\n",
            "469/469 [==============================] - 2s 3ms/step - loss: 5.2973e-04 - accuracy: 1.0000\n",
            "Epoch 35/100\n",
            "469/469 [==============================] - 2s 3ms/step - loss: 0.0092 - accuracy: 0.9969\n",
            "Epoch 36/100\n",
            "469/469 [==============================] - 2s 3ms/step - loss: 0.0072 - accuracy: 0.9975\n",
            "Epoch 37/100\n",
            "469/469 [==============================] - 2s 4ms/step - loss: 0.0013 - accuracy: 0.9999\n",
            "Epoch 38/100\n",
            "469/469 [==============================] - 2s 3ms/step - loss: 5.4295e-04 - accuracy: 1.0000\n",
            "Epoch 39/100\n",
            "469/469 [==============================] - 2s 5ms/step - loss: 4.0482e-04 - accuracy: 1.0000\n",
            "Epoch 40/100\n",
            "469/469 [==============================] - 2s 4ms/step - loss: 3.5429e-04 - accuracy: 1.0000\n",
            "Epoch 41/100\n",
            "469/469 [==============================] - 2s 4ms/step - loss: 2.9815e-04 - accuracy: 1.0000\n",
            "Epoch 42/100\n",
            "469/469 [==============================] - 2s 5ms/step - loss: 2.7430e-04 - accuracy: 1.0000\n",
            "Epoch 43/100\n",
            "469/469 [==============================] - 2s 3ms/step - loss: 3.3621e-04 - accuracy: 1.0000\n",
            "Epoch 44/100\n",
            "469/469 [==============================] - 2s 3ms/step - loss: 0.0127 - accuracy: 0.9956\n",
            "Epoch 45/100\n",
            "469/469 [==============================] - 2s 3ms/step - loss: 0.0034 - accuracy: 0.9991\n",
            "Epoch 46/100\n",
            "469/469 [==============================] - 2s 3ms/step - loss: 7.3852e-04 - accuracy: 0.9999\n",
            "Epoch 47/100\n",
            "469/469 [==============================] - 2s 3ms/step - loss: 3.1621e-04 - accuracy: 1.0000\n",
            "Epoch 48/100\n",
            "469/469 [==============================] - 2s 3ms/step - loss: 2.3827e-04 - accuracy: 1.0000\n",
            "Epoch 49/100\n",
            "469/469 [==============================] - 2s 3ms/step - loss: 2.0509e-04 - accuracy: 1.0000\n",
            "Epoch 50/100\n",
            "469/469 [==============================] - 2s 3ms/step - loss: 1.8398e-04 - accuracy: 1.0000\n",
            "Epoch 51/100\n",
            "469/469 [==============================] - 2s 3ms/step - loss: 1.6474e-04 - accuracy: 1.0000\n",
            "Epoch 52/100\n",
            "469/469 [==============================] - 2s 3ms/step - loss: 1.5084e-04 - accuracy: 1.0000\n",
            "Epoch 53/100\n",
            "469/469 [==============================] - 2s 3ms/step - loss: 1.3270e-04 - accuracy: 1.0000\n",
            "Epoch 54/100\n",
            "469/469 [==============================] - 2s 3ms/step - loss: 0.0024 - accuracy: 0.9994\n",
            "Epoch 55/100\n",
            "469/469 [==============================] - 2s 3ms/step - loss: 0.0132 - accuracy: 0.9958\n",
            "Epoch 56/100\n",
            "469/469 [==============================] - 2s 3ms/step - loss: 0.0013 - accuracy: 0.9997\n",
            "Epoch 57/100\n",
            "469/469 [==============================] - 2s 3ms/step - loss: 3.9271e-04 - accuracy: 1.0000\n",
            "Epoch 58/100\n",
            "469/469 [==============================] - 2s 3ms/step - loss: 1.9812e-04 - accuracy: 1.0000\n",
            "Epoch 59/100\n",
            "469/469 [==============================] - 2s 3ms/step - loss: 1.5273e-04 - accuracy: 1.0000\n",
            "Epoch 60/100\n",
            "469/469 [==============================] - 2s 3ms/step - loss: 1.3331e-04 - accuracy: 1.0000\n",
            "Epoch 61/100\n",
            "469/469 [==============================] - 2s 4ms/step - loss: 1.1783e-04 - accuracy: 1.0000\n",
            "Epoch 62/100\n",
            "469/469 [==============================] - 2s 4ms/step - loss: 1.0673e-04 - accuracy: 1.0000\n",
            "Epoch 63/100\n",
            "469/469 [==============================] - 2s 3ms/step - loss: 9.5943e-05 - accuracy: 1.0000\n",
            "Epoch 64/100\n",
            "469/469 [==============================] - 2s 4ms/step - loss: 8.5381e-05 - accuracy: 1.0000\n",
            "Epoch 65/100\n",
            "469/469 [==============================] - 2s 4ms/step - loss: 7.7050e-05 - accuracy: 1.0000\n",
            "Epoch 66/100\n",
            "469/469 [==============================] - 2s 3ms/step - loss: 7.3002e-05 - accuracy: 1.0000\n",
            "Epoch 67/100\n",
            "469/469 [==============================] - 2s 3ms/step - loss: 6.3474e-05 - accuracy: 1.0000\n",
            "Epoch 68/100\n",
            "469/469 [==============================] - 2s 3ms/step - loss: 5.8463e-05 - accuracy: 1.0000\n",
            "Epoch 69/100\n",
            "469/469 [==============================] - 2s 3ms/step - loss: 5.2078e-05 - accuracy: 1.0000\n",
            "Epoch 70/100\n",
            "469/469 [==============================] - 2s 3ms/step - loss: 0.0114 - accuracy: 0.9970\n",
            "Epoch 71/100\n",
            "469/469 [==============================] - 2s 3ms/step - loss: 0.0042 - accuracy: 0.9988\n",
            "Epoch 72/100\n",
            "469/469 [==============================] - 2s 3ms/step - loss: 0.0012 - accuracy: 0.9997\n",
            "Epoch 73/100\n",
            "469/469 [==============================] - 2s 3ms/step - loss: 2.6127e-04 - accuracy: 1.0000\n",
            "Epoch 74/100\n",
            "469/469 [==============================] - 2s 3ms/step - loss: 9.8626e-05 - accuracy: 1.0000\n",
            "Epoch 75/100\n",
            "469/469 [==============================] - 2s 3ms/step - loss: 7.7795e-05 - accuracy: 1.0000\n",
            "Epoch 76/100\n",
            "469/469 [==============================] - 2s 3ms/step - loss: 6.7399e-05 - accuracy: 1.0000\n",
            "Epoch 77/100\n",
            "469/469 [==============================] - 2s 3ms/step - loss: 5.9835e-05 - accuracy: 1.0000\n",
            "Epoch 78/100\n",
            "469/469 [==============================] - 2s 3ms/step - loss: 5.3046e-05 - accuracy: 1.0000\n",
            "Epoch 79/100\n",
            "469/469 [==============================] - 2s 3ms/step - loss: 4.7572e-05 - accuracy: 1.0000\n",
            "Epoch 80/100\n",
            "469/469 [==============================] - 2s 3ms/step - loss: 4.2706e-05 - accuracy: 1.0000\n",
            "Epoch 81/100\n",
            "469/469 [==============================] - 2s 3ms/step - loss: 3.8815e-05 - accuracy: 1.0000\n",
            "Epoch 82/100\n",
            "469/469 [==============================] - 2s 3ms/step - loss: 3.5194e-05 - accuracy: 1.0000\n",
            "Epoch 83/100\n",
            "469/469 [==============================] - 2s 3ms/step - loss: 3.1640e-05 - accuracy: 1.0000\n",
            "Epoch 84/100\n",
            "469/469 [==============================] - 2s 3ms/step - loss: 2.8928e-05 - accuracy: 1.0000\n",
            "Epoch 85/100\n",
            "469/469 [==============================] - 2s 3ms/step - loss: 2.5976e-05 - accuracy: 1.0000\n",
            "Epoch 86/100\n",
            "469/469 [==============================] - 2s 3ms/step - loss: 2.3688e-05 - accuracy: 1.0000\n",
            "Epoch 87/100\n",
            "469/469 [==============================] - 2s 3ms/step - loss: 2.1540e-05 - accuracy: 1.0000\n",
            "Epoch 88/100\n",
            "469/469 [==============================] - 2s 3ms/step - loss: 1.8874e-05 - accuracy: 1.0000\n",
            "Epoch 89/100\n",
            "469/469 [==============================] - 2s 3ms/step - loss: 0.0031 - accuracy: 0.9992\n",
            "Epoch 90/100\n",
            "469/469 [==============================] - 2s 3ms/step - loss: 0.0084 - accuracy: 0.9973\n",
            "Epoch 91/100\n",
            "469/469 [==============================] - 2s 3ms/step - loss: 5.6188e-04 - accuracy: 0.9998\n",
            "Epoch 92/100\n",
            "469/469 [==============================] - 2s 3ms/step - loss: 1.1308e-04 - accuracy: 1.0000\n",
            "Epoch 93/100\n",
            "469/469 [==============================] - 2s 3ms/step - loss: 5.9322e-05 - accuracy: 1.0000\n",
            "Epoch 94/100\n",
            "469/469 [==============================] - 2s 3ms/step - loss: 4.8531e-05 - accuracy: 1.0000\n",
            "Epoch 95/100\n",
            "469/469 [==============================] - 2s 3ms/step - loss: 4.1702e-05 - accuracy: 1.0000\n",
            "Epoch 96/100\n",
            "469/469 [==============================] - 2s 3ms/step - loss: 3.6558e-05 - accuracy: 1.0000\n",
            "Epoch 97/100\n",
            "469/469 [==============================] - 2s 3ms/step - loss: 3.1914e-05 - accuracy: 1.0000\n",
            "Epoch 98/100\n",
            "469/469 [==============================] - 2s 3ms/step - loss: 2.8383e-05 - accuracy: 1.0000\n",
            "Epoch 99/100\n",
            "469/469 [==============================] - 2s 3ms/step - loss: 2.4937e-05 - accuracy: 1.0000\n",
            "Epoch 100/100\n",
            "469/469 [==============================] - 2s 3ms/step - loss: 2.2303e-05 - accuracy: 1.0000\n"
          ]
        }
      ]
    },
    {
      "cell_type": "code",
      "source": [
        "# test set으로 성능확인\n",
        "# Evaluate the model using test dataset.\n",
        "test_loss, test_acc = model.evaluate(test_images, test_labels)\n",
        "print('Test Accuracy: ', test_acc)"
      ],
      "metadata": {
        "colab": {
          "base_uri": "https://localhost:8080/"
        },
        "id": "TT30Ncyd9nBM",
        "outputId": "a3e2e866-bf18-437f-ff80-1bc5adcc8024"
      },
      "execution_count": 16,
      "outputs": [
        {
          "output_type": "stream",
          "name": "stdout",
          "text": [
            " 74/313 [======>.......................] - ETA: 0s - loss: 0.1808 - accuracy: 0.9726"
          ]
        },
        {
          "output_type": "stream",
          "name": "stderr",
          "text": [
            "/usr/local/lib/python3.7/dist-packages/tensorflow/python/util/dispatch.py:1082: UserWarning: \"`sparse_categorical_crossentropy` received `from_logits=True`, but the `output` argument was produced by a sigmoid or softmax activation and thus does not represent logits. Was this intended?\"\n",
            "  return dispatch_target(*args, **kwargs)\n"
          ]
        },
        {
          "output_type": "stream",
          "name": "stdout",
          "text": [
            "313/313 [==============================] - 1s 1ms/step - loss: 0.1312 - accuracy: 0.9801\n",
            "Test Accuracy:  0.9800999760627747\n"
          ]
        }
      ]
    },
    {
      "cell_type": "markdown",
      "source": [
        ""
      ],
      "metadata": {
        "id": "lW6sw_ZXuRUf"
      }
    }
  ]
}